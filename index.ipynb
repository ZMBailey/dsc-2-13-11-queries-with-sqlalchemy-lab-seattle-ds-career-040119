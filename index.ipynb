{
 "cells": [
  {
   "cell_type": "markdown",
   "metadata": {},
   "source": [
    "# Querying with SQLAlchemy - Lab\n",
    "\n",
    "## Introduction\n",
    "\n",
    "In this lesson, we'll learn how to use SQLAlchemy to write queries about Microsoft's _Northwind Traders_ database!\n",
    "\n",
    "## Objectives\n",
    "\n",
    "You will be able to:\n",
    "\n",
    "* Read and understand an ERD diagram\n",
    "* Create queries with SQLAlchemy, including queries that involve many-to-many relationships\n",
    "\n",
    "## Getting Started\n",
    "\n",
    "In order to complete this lab, we'll need to download a SQLite3-compatible version of the _Northwind Traders_ database from Microsoft.  Microsoft built this database back in the year 2000 to help showcase their SQL Server technology. Since then, it has been open-sourced and has become a great practice tool for every new generation of SQL learners. \n",
    "\n",
    "Lucky for us, some generous programmers have already converted the Northwind database to a sqlite-compatible version and posted it on Github. We've already included the file the SQL database file that we'll be working with in the repo for this folder, along with the following ERD Diagram. However, if you would like to work with the larger version of this dataset at a future time, just clone [this repo](https://github.com/jpwhite3/northwind-SQLite3) and follow their instructions to access it!\n",
    "\n",
    "## ERD Diagram For Northwind Traders\n",
    "\n",
    "The following ERD Diagram describes the Northwind Traders Database:\n",
    "\n",
    "<img src='Northwind_ERD.png'>\n",
    "\n",
    "If the text seems a bit hard to read inside this jupyter notebook, just go into the folder for this repo and open the `Northwind_ERD.png` file manually to see it full size. \n",
    "\n",
    "## Connecting to the Database\n",
    "\n",
    "The first thing we'll need to do is connect to the Northwind Traders database, which can be found in the file `Northwind_small.sqlite`.\n",
    "\n",
    "In the cell below, import the necessary tools from the `sqlalchemy` library, and take the necessary steps to connect to the database.\n",
    "\n",
    "**_NOTE:_** We won't be modifying the information in the database at all, just querying it, so there's no need to import the various things you would need to create declarative base classes and the like."
   ]
  },
  {
   "cell_type": "code",
   "execution_count": 1,
   "metadata": {},
   "outputs": [],
   "source": [
    "import sqlalchemy\n",
    "from sqlalchemy import create_engine\n",
    "from sqlalchemy.orm import Session, sessionmaker\n",
    "\n",
    "engine = create_engine('sqlite:///Northwind_small.sqlite', echo=True)\n",
    "Session = sessionmaker(bind=engine)\n",
    "session = Session()"
   ]
  },
  {
   "cell_type": "markdown",
   "metadata": {},
   "source": [
    "## Get Table Names and Table Information\n",
    "\n",
    "One of the most useful things we can do when working with a new database is to inspect the tables until we have a solid idea of what we're looking at.  As you work through this lab, you'll notice that there are some small discrepancies between the Table/Column names listed in the ERD and what they are actually are in the database.  This may be annoying, but this is not an accident--sometimes, documentation is wrong!  By learning how to inspect what tables exist in a database, as well as how which columns exist inside a table, we can save ourselves a lot of headaches by double checking. \n",
    "\n",
    "In the cell below:\n",
    "\n",
    "* Import `inspect` from sqlalchemy\n",
    "* Create an inspector object by passing in `engine` to `inspect`\n",
    "* Use the appropriate inspector function to get the names of all tables"
   ]
  },
  {
   "cell_type": "code",
   "execution_count": 2,
   "metadata": {},
   "outputs": [
    {
     "name": "stdout",
     "output_type": "stream",
     "text": [
      "2019-04-23 21:03:05,894 INFO sqlalchemy.engine.base.Engine SELECT CAST('test plain returns' AS VARCHAR(60)) AS anon_1\n",
      "2019-04-23 21:03:05,895 INFO sqlalchemy.engine.base.Engine ()\n",
      "2019-04-23 21:03:05,897 INFO sqlalchemy.engine.base.Engine SELECT CAST('test unicode returns' AS VARCHAR(60)) AS anon_1\n",
      "2019-04-23 21:03:05,898 INFO sqlalchemy.engine.base.Engine ()\n",
      "2019-04-23 21:03:05,900 INFO sqlalchemy.engine.base.Engine SELECT name FROM sqlite_master WHERE type='table' ORDER BY name\n",
      "2019-04-23 21:03:05,901 INFO sqlalchemy.engine.base.Engine ()\n",
      "['Category', 'Customer', 'CustomerCustomerDemo', 'CustomerDemographic', 'Employee', 'EmployeeTerritory', 'Order', 'OrderDetail', 'Product', 'Region', 'Shipper', 'Supplier', 'Territory']\n"
     ]
    }
   ],
   "source": [
    "from sqlalchemy import inspect\n",
    "\n",
    "inspector = inspect(engine)\n",
    "\n",
    "print(inspector.get_table_names())"
   ]
  },
  {
   "cell_type": "markdown",
   "metadata": {},
   "source": [
    "Great! We can now see exactly what each Table is named. \n",
    "\n",
    "**_Question_**:\n",
    "\n",
    "Are there any discrepancies between the table names and the ERD diagrams? if so, what are they?\n",
    "\n",
    "Write your answer below this line:\n",
    "________________________________________________________________________________________________________________________________\n",
    "\n",
    "\n",
    "\n",
    "Let's inspect the column names on one of the tables as well. In the cell below, call the appropriate method to get all column names for the `'Employee'` table. "
   ]
  },
  {
   "cell_type": "code",
   "execution_count": 3,
   "metadata": {},
   "outputs": [
    {
     "name": "stdout",
     "output_type": "stream",
     "text": [
      "2019-04-23 20:19:52,972 INFO sqlalchemy.engine.base.Engine PRAGMA table_info(\"Employee\")\n",
      "2019-04-23 20:19:52,973 INFO sqlalchemy.engine.base.Engine ()\n",
      "[{'name': 'Id', 'type': INTEGER(), 'nullable': True, 'default': None, 'autoincrement': 'auto', 'primary_key': 1}, {'name': 'LastName', 'type': VARCHAR(length=8000), 'nullable': True, 'default': None, 'autoincrement': 'auto', 'primary_key': 0}, {'name': 'FirstName', 'type': VARCHAR(length=8000), 'nullable': True, 'default': None, 'autoincrement': 'auto', 'primary_key': 0}, {'name': 'Title', 'type': VARCHAR(length=8000), 'nullable': True, 'default': None, 'autoincrement': 'auto', 'primary_key': 0}, {'name': 'TitleOfCourtesy', 'type': VARCHAR(length=8000), 'nullable': True, 'default': None, 'autoincrement': 'auto', 'primary_key': 0}, {'name': 'BirthDate', 'type': VARCHAR(length=8000), 'nullable': True, 'default': None, 'autoincrement': 'auto', 'primary_key': 0}, {'name': 'HireDate', 'type': VARCHAR(length=8000), 'nullable': True, 'default': None, 'autoincrement': 'auto', 'primary_key': 0}, {'name': 'Address', 'type': VARCHAR(length=8000), 'nullable': True, 'default': None, 'autoincrement': 'auto', 'primary_key': 0}, {'name': 'City', 'type': VARCHAR(length=8000), 'nullable': True, 'default': None, 'autoincrement': 'auto', 'primary_key': 0}, {'name': 'Region', 'type': VARCHAR(length=8000), 'nullable': True, 'default': None, 'autoincrement': 'auto', 'primary_key': 0}, {'name': 'PostalCode', 'type': VARCHAR(length=8000), 'nullable': True, 'default': None, 'autoincrement': 'auto', 'primary_key': 0}, {'name': 'Country', 'type': VARCHAR(length=8000), 'nullable': True, 'default': None, 'autoincrement': 'auto', 'primary_key': 0}, {'name': 'HomePhone', 'type': VARCHAR(length=8000), 'nullable': True, 'default': None, 'autoincrement': 'auto', 'primary_key': 0}, {'name': 'Extension', 'type': VARCHAR(length=8000), 'nullable': True, 'default': None, 'autoincrement': 'auto', 'primary_key': 0}, {'name': 'Photo', 'type': BLOB(), 'nullable': True, 'default': None, 'autoincrement': 'auto', 'primary_key': 0}, {'name': 'Notes', 'type': VARCHAR(length=8000), 'nullable': True, 'default': None, 'autoincrement': 'auto', 'primary_key': 0}, {'name': 'ReportsTo', 'type': INTEGER(), 'nullable': True, 'default': None, 'autoincrement': 'auto', 'primary_key': 0}, {'name': 'PhotoPath', 'type': VARCHAR(length=8000), 'nullable': True, 'default': None, 'autoincrement': 'auto', 'primary_key': 0}]\n"
     ]
    }
   ],
   "source": [
    "print(inspector.get_columns('Employee'))"
   ]
  },
  {
   "cell_type": "markdown",
   "metadata": {},
   "source": [
    "That output is good, but its a bit messy. Let's write a function that makes it a bit more readable, and only tells us what we need to know. \n",
    "\n",
    "The current structure of the output is a list of dictionaries. Complete the function below so that when the function is called and passed a table name, it prints out the name and type of each column in a well-formatted way. "
   ]
  },
  {
   "cell_type": "code",
   "execution_count": 11,
   "metadata": {},
   "outputs": [
    {
     "name": "stdout",
     "output_type": "stream",
     "text": [
      "2019-04-23 21:06:46,714 INFO sqlalchemy.engine.base.Engine PRAGMA table_info(\"EmployeeTerritory\")\n",
      "2019-04-23 21:06:46,715 INFO sqlalchemy.engine.base.Engine ()\n",
      "Table Name: EmployeeTerritory\n",
      "\n",
      "Name: Id \t Type: VARCHAR(8000)\n",
      "Name: EmployeeId \t Type: INTEGER\n",
      "Name: TerritoryId \t Type: VARCHAR(8000)\n"
     ]
    }
   ],
   "source": [
    "def get_columns_info(col_name):\n",
    "    cols_list = inspector.get_columns(col_name)\n",
    "    \n",
    "    print(\"Table Name: {}\".format(col_name))\n",
    "    print(\"\")\n",
    "    \n",
    "    for col in cols_list:\n",
    "        print(\"Name: {} \\t Type: {}\".format(col['name'], col['type']))\n",
    "\n",
    "get_columns_info('EmployeeTerritory')"
   ]
  },
  {
   "cell_type": "raw",
   "metadata": {},
   "source": [
    "# Expected Output:\n",
    "\n",
    "Table Name: Employee\n",
    "\n",
    "Name: Id \t Type: INTEGER\n",
    "Name: LastName \t Type: VARCHAR(8000)\n",
    "Name: FirstName \t Type: VARCHAR(8000)\n",
    "Name: Title \t Type: VARCHAR(8000)\n",
    "Name: TitleOfCourtesy \t Type: VARCHAR(8000)\n",
    "Name: BirthDate \t Type: VARCHAR(8000)\n",
    "Name: HireDate \t Type: VARCHAR(8000)\n",
    "Name: Address \t Type: VARCHAR(8000)\n",
    "Name: City \t Type: VARCHAR(8000)\n",
    "Name: Region \t Type: VARCHAR(8000)\n",
    "Name: PostalCode \t Type: VARCHAR(8000)\n",
    "Name: Country \t Type: VARCHAR(8000)\n",
    "Name: HomePhone \t Type: VARCHAR(8000)\n",
    "Name: Extension \t Type: VARCHAR(8000)\n",
    "Name: Photo \t Type: BLOB\n",
    "Name: Notes \t Type: VARCHAR(8000)\n",
    "Name: ReportsTo \t Type: INTEGER\n",
    "Name: PhotoPath \t Type: VARCHAR(8000)"
   ]
  },
  {
   "cell_type": "markdown",
   "metadata": {},
   "source": [
    "## Connecting and Executing Raw SQL Statements\n",
    "\n",
    "Sometimes, the easiest thing for us to do is to just execute a raw SQL statement.  This is very easy with SQLAlchemy--we just need to establish a connection, and then use the appropriat methods to execute SQL statements!\n",
    "\n",
    "In the cell below:\n",
    "\n",
    "* Create a connection using the `engine` object's appropriate method and store it in the variable `con`\n",
    "* Use the appropriate method from `con` to execute a raw SQL statement (in the form of a string) that gets everything from the `'Customer'` table with a LIMIT of 5. Store the results returned in the variable `rs`\n",
    "* Use the `fetchall()` method to display all results from `rs`."
   ]
  },
  {
   "cell_type": "code",
   "execution_count": 4,
   "metadata": {},
   "outputs": [
    {
     "name": "stdout",
     "output_type": "stream",
     "text": [
      "2019-04-23 21:03:15,249 INFO sqlalchemy.engine.base.Engine SELECT * FROM Customer LIMIT 5\n",
      "2019-04-23 21:03:15,250 INFO sqlalchemy.engine.base.Engine ()\n",
      "[('ALFKI', 'Alfreds Futterkiste', 'Maria Anders', 'Sales Representative', 'Obere Str. 57', 'Berlin', 'Western Europe', '12209', 'Germany', '030-0074321', '030-0076545'), ('ANATR', 'Ana Trujillo Emparedados y helados', 'Ana Trujillo', 'Owner', 'Avda. de la Constitución 2222', 'México D.F.', 'Central America', '05021', 'Mexico', '(5) 555-4729', '(5) 555-3745'), ('ANTON', 'Antonio Moreno Taquería', 'Antonio Moreno', 'Owner', 'Mataderos  2312', 'México D.F.', 'Central America', '05023', 'Mexico', '(5) 555-3932', None), ('AROUT', 'Around the Horn', 'Thomas Hardy', 'Sales Representative', '120 Hanover Sq.', 'London', 'British Isles', 'WA1 1DP', 'UK', '(171) 555-7788', '(171) 555-6750'), ('BERGS', 'Berglunds snabbköp', 'Christina Berglund', 'Order Administrator', 'Berguvsvägen  8', 'Luleå', 'Northern Europe', 'S-958 22', 'Sweden', '0921-12 34 65', '0921-12 34 67')]\n"
     ]
    }
   ],
   "source": [
    "con = engine.connect()\n",
    "rs = con.execute(\"SELECT * FROM Customer LIMIT 5\")\n",
    "\n",
    "print(rs.fetchall())"
   ]
  },
  {
   "cell_type": "raw",
   "metadata": {},
   "source": [
    "# Expected Output:\n",
    "\n",
    "[('ALFKI', 'Alfreds Futterkiste', 'Maria Anders', 'Sales Representative', 'Obere Str. 57', 'Berlin', 'Western Europe', '12209', 'Germany', '030-0074321', '030-0076545'), ('ANATR', 'Ana Trujillo Emparedados y helados', 'Ana Trujillo', 'Owner', 'Avda. de la Constitución 2222', 'México D.F.', 'Central America', '05021', 'Mexico', '(5) 555-4729', '(5) 555-3745'), ('ANTON', 'Antonio Moreno Taquería', 'Antonio Moreno', 'Owner', 'Mataderos  2312', 'México D.F.', 'Central America', '05023', 'Mexico', '(5) 555-3932', None), ('AROUT', 'Around the Horn', 'Thomas Hardy', 'Sales Representative', '120 Hanover Sq.', 'London', 'British Isles', 'WA1 1DP', 'UK', '(171) 555-7788', '(171) 555-6750'), ('BERGS', 'Berglunds snabbköp', 'Christina Berglund', 'Order Administrator', 'Berguvsvägen  8', 'Luleå', 'Northern Europe', 'S-958 22', 'Sweden', '0921-12 34 65', '0921-12 34 67')]"
   ]
  },
  {
   "cell_type": "markdown",
   "metadata": {},
   "source": [
    "## Incorporating Pandas DataFrames\n",
    "\n",
    "So far we've been able to easily connect to a SQL database, inspect the tables, and execute queries. However, the results returned from queries haven't been in an easily readable format.  We'll fix that by taking the results and storing it in a pandas DataFrame!\n",
    "\n",
    "In the cell below:\n",
    "\n",
    "* Import pandas and set the standard alias.\n",
    "* Create and execute a query that gets The firstname, lastname, and title of every person in the `'Employee'` table.\n",
    "* Create a pandas DataFrame out of the results returned from `rs.fetchall()`\n",
    "* Display the head of the new DataFRame"
   ]
  },
  {
   "cell_type": "code",
   "execution_count": 5,
   "metadata": {},
   "outputs": [
    {
     "name": "stdout",
     "output_type": "stream",
     "text": [
      "2019-04-23 21:03:19,331 INFO sqlalchemy.engine.base.Engine SELECT firstname,lastname,title FROM Employee\n",
      "2019-04-23 21:03:19,332 INFO sqlalchemy.engine.base.Engine ()\n"
     ]
    },
    {
     "data": {
      "text/html": [
       "<div>\n",
       "<style scoped>\n",
       "    .dataframe tbody tr th:only-of-type {\n",
       "        vertical-align: middle;\n",
       "    }\n",
       "\n",
       "    .dataframe tbody tr th {\n",
       "        vertical-align: top;\n",
       "    }\n",
       "\n",
       "    .dataframe thead th {\n",
       "        text-align: right;\n",
       "    }\n",
       "</style>\n",
       "<table border=\"1\" class=\"dataframe\">\n",
       "  <thead>\n",
       "    <tr style=\"text-align: right;\">\n",
       "      <th></th>\n",
       "      <th>0</th>\n",
       "      <th>1</th>\n",
       "      <th>2</th>\n",
       "    </tr>\n",
       "  </thead>\n",
       "  <tbody>\n",
       "    <tr>\n",
       "      <th>0</th>\n",
       "      <td>Nancy</td>\n",
       "      <td>Davolio</td>\n",
       "      <td>Sales Representative</td>\n",
       "    </tr>\n",
       "    <tr>\n",
       "      <th>1</th>\n",
       "      <td>Andrew</td>\n",
       "      <td>Fuller</td>\n",
       "      <td>Vice President, Sales</td>\n",
       "    </tr>\n",
       "    <tr>\n",
       "      <th>2</th>\n",
       "      <td>Janet</td>\n",
       "      <td>Leverling</td>\n",
       "      <td>Sales Representative</td>\n",
       "    </tr>\n",
       "    <tr>\n",
       "      <th>3</th>\n",
       "      <td>Margaret</td>\n",
       "      <td>Peacock</td>\n",
       "      <td>Sales Representative</td>\n",
       "    </tr>\n",
       "    <tr>\n",
       "      <th>4</th>\n",
       "      <td>Steven</td>\n",
       "      <td>Buchanan</td>\n",
       "      <td>Sales Manager</td>\n",
       "    </tr>\n",
       "  </tbody>\n",
       "</table>\n",
       "</div>"
      ],
      "text/plain": [
       "          0          1                      2\n",
       "0     Nancy    Davolio   Sales Representative\n",
       "1    Andrew     Fuller  Vice President, Sales\n",
       "2     Janet  Leverling   Sales Representative\n",
       "3  Margaret    Peacock   Sales Representative\n",
       "4    Steven   Buchanan          Sales Manager"
      ]
     },
     "execution_count": 5,
     "metadata": {},
     "output_type": "execute_result"
    }
   ],
   "source": [
    "import pandas as pd\n",
    "\n",
    "rs = con.execute(\"SELECT firstname,lastname,title FROM Employee\")\n",
    "df = pd.DataFrame(rs.fetchall())\n",
    "df.head()"
   ]
  },
  {
   "cell_type": "markdown",
   "metadata": {},
   "source": [
    "Nice! We can now read our results.  However, the columns of our DataFrame aren't labeled.  Luckily, pandas plays nicely with the sqlalchemy library, and can actually execute sql queries!"
   ]
  },
  {
   "cell_type": "markdown",
   "metadata": {},
   "source": [
    "### Writing Queries with Pandas\n",
    "\n",
    "In the cell below:\n",
    "\n",
    "* Use the appropriate method from pandas to select all columns for every row in the `[Order]` table where the customer is `'VINET'`\n",
    "* Be sure to pass in our `engine` as the 2nd parameter, otherwise it won't work!\n",
    "* Display the head of the DataFrame created to ensure everything worked correctly."
   ]
  },
  {
   "cell_type": "code",
   "execution_count": 23,
   "metadata": {},
   "outputs": [
    {
     "name": "stdout",
     "output_type": "stream",
     "text": [
      "2019-04-23 19:50:31,503 INFO sqlalchemy.engine.base.Engine SELECT * FROM [Order] WHERE customerID = 'VINET'\n",
      "2019-04-23 19:50:31,505 INFO sqlalchemy.engine.base.Engine ()\n"
     ]
    },
    {
     "data": {
      "text/html": [
       "<div>\n",
       "<style scoped>\n",
       "    .dataframe tbody tr th:only-of-type {\n",
       "        vertical-align: middle;\n",
       "    }\n",
       "\n",
       "    .dataframe tbody tr th {\n",
       "        vertical-align: top;\n",
       "    }\n",
       "\n",
       "    .dataframe thead th {\n",
       "        text-align: right;\n",
       "    }\n",
       "</style>\n",
       "<table border=\"1\" class=\"dataframe\">\n",
       "  <thead>\n",
       "    <tr style=\"text-align: right;\">\n",
       "      <th></th>\n",
       "      <th>Id</th>\n",
       "      <th>CustomerId</th>\n",
       "      <th>EmployeeId</th>\n",
       "      <th>OrderDate</th>\n",
       "      <th>RequiredDate</th>\n",
       "      <th>ShippedDate</th>\n",
       "      <th>ShipVia</th>\n",
       "      <th>Freight</th>\n",
       "      <th>ShipName</th>\n",
       "      <th>ShipAddress</th>\n",
       "      <th>ShipCity</th>\n",
       "      <th>ShipRegion</th>\n",
       "      <th>ShipPostalCode</th>\n",
       "      <th>ShipCountry</th>\n",
       "    </tr>\n",
       "  </thead>\n",
       "  <tbody>\n",
       "    <tr>\n",
       "      <th>0</th>\n",
       "      <td>10248</td>\n",
       "      <td>VINET</td>\n",
       "      <td>5</td>\n",
       "      <td>2012-07-04</td>\n",
       "      <td>2012-08-01</td>\n",
       "      <td>2012-07-16</td>\n",
       "      <td>3</td>\n",
       "      <td>32.38</td>\n",
       "      <td>Vins et alcools Chevalier</td>\n",
       "      <td>59 rue de l'Abbaye</td>\n",
       "      <td>Reims</td>\n",
       "      <td>Western Europe</td>\n",
       "      <td>51100</td>\n",
       "      <td>France</td>\n",
       "    </tr>\n",
       "    <tr>\n",
       "      <th>1</th>\n",
       "      <td>10274</td>\n",
       "      <td>VINET</td>\n",
       "      <td>6</td>\n",
       "      <td>2012-08-06</td>\n",
       "      <td>2012-09-03</td>\n",
       "      <td>2012-08-16</td>\n",
       "      <td>1</td>\n",
       "      <td>6.01</td>\n",
       "      <td>Vins et alcools Chevalier</td>\n",
       "      <td>59 rue de l'Abbaye</td>\n",
       "      <td>Reims</td>\n",
       "      <td>Western Europe</td>\n",
       "      <td>51100</td>\n",
       "      <td>France</td>\n",
       "    </tr>\n",
       "    <tr>\n",
       "      <th>2</th>\n",
       "      <td>10295</td>\n",
       "      <td>VINET</td>\n",
       "      <td>2</td>\n",
       "      <td>2012-09-02</td>\n",
       "      <td>2012-09-30</td>\n",
       "      <td>2012-09-10</td>\n",
       "      <td>2</td>\n",
       "      <td>1.15</td>\n",
       "      <td>Vins et alcools Chevalier</td>\n",
       "      <td>59 rue de l'Abbaye</td>\n",
       "      <td>Reims</td>\n",
       "      <td>Western Europe</td>\n",
       "      <td>51100</td>\n",
       "      <td>France</td>\n",
       "    </tr>\n",
       "    <tr>\n",
       "      <th>3</th>\n",
       "      <td>10737</td>\n",
       "      <td>VINET</td>\n",
       "      <td>2</td>\n",
       "      <td>2013-11-11</td>\n",
       "      <td>2013-12-09</td>\n",
       "      <td>2013-11-18</td>\n",
       "      <td>2</td>\n",
       "      <td>7.79</td>\n",
       "      <td>Vins et alcools Chevalier</td>\n",
       "      <td>59 rue de l'Abbaye</td>\n",
       "      <td>Reims</td>\n",
       "      <td>Western Europe</td>\n",
       "      <td>51100</td>\n",
       "      <td>France</td>\n",
       "    </tr>\n",
       "    <tr>\n",
       "      <th>4</th>\n",
       "      <td>10739</td>\n",
       "      <td>VINET</td>\n",
       "      <td>3</td>\n",
       "      <td>2013-11-12</td>\n",
       "      <td>2013-12-10</td>\n",
       "      <td>2013-11-17</td>\n",
       "      <td>3</td>\n",
       "      <td>11.08</td>\n",
       "      <td>Vins et alcools Chevalier</td>\n",
       "      <td>59 rue de l'Abbaye</td>\n",
       "      <td>Reims</td>\n",
       "      <td>Western Europe</td>\n",
       "      <td>51100</td>\n",
       "      <td>France</td>\n",
       "    </tr>\n",
       "  </tbody>\n",
       "</table>\n",
       "</div>"
      ],
      "text/plain": [
       "      Id CustomerId  EmployeeId   OrderDate RequiredDate ShippedDate  ShipVia  \\\n",
       "0  10248      VINET           5  2012-07-04   2012-08-01  2012-07-16        3   \n",
       "1  10274      VINET           6  2012-08-06   2012-09-03  2012-08-16        1   \n",
       "2  10295      VINET           2  2012-09-02   2012-09-30  2012-09-10        2   \n",
       "3  10737      VINET           2  2013-11-11   2013-12-09  2013-11-18        2   \n",
       "4  10739      VINET           3  2013-11-12   2013-12-10  2013-11-17        3   \n",
       "\n",
       "   Freight                   ShipName         ShipAddress ShipCity  \\\n",
       "0    32.38  Vins et alcools Chevalier  59 rue de l'Abbaye    Reims   \n",
       "1     6.01  Vins et alcools Chevalier  59 rue de l'Abbaye    Reims   \n",
       "2     1.15  Vins et alcools Chevalier  59 rue de l'Abbaye    Reims   \n",
       "3     7.79  Vins et alcools Chevalier  59 rue de l'Abbaye    Reims   \n",
       "4    11.08  Vins et alcools Chevalier  59 rue de l'Abbaye    Reims   \n",
       "\n",
       "       ShipRegion ShipPostalCode ShipCountry  \n",
       "0  Western Europe          51100      France  \n",
       "1  Western Europe          51100      France  \n",
       "2  Western Europe          51100      France  \n",
       "3  Western Europe          51100      France  \n",
       "4  Western Europe          51100      France  "
      ]
     },
     "execution_count": 23,
     "metadata": {},
     "output_type": "execute_result"
    }
   ],
   "source": [
    "df = pd.read_sql_query(\"SELECT * FROM [Order] WHERE customerID = 'VINET'\", engine)\n",
    "df.head()"
   ]
  },
  {
   "cell_type": "markdown",
   "metadata": {},
   "source": [
    "Great! As we can see from the output above, when we let pandas execute the SQL query for us, the DataFrame now contains columns with the correct labels. This is a great way to execute SQL while still making sure our results are easy to read and manipulate by using DataFrames!\n",
    "\n",
    "## Executing JOIN Statements\n",
    "\n",
    "Let's try executing a JOIN statement inside `pd.read_sql_query`.\n",
    "\n",
    "In the cell below:\n",
    "\n",
    "* Write a query that gets the Order ID, Company Name, and the total count of orders made by each company (as num_orders).\n",
    "* Group the results by Company Name\n",
    "* Order the results by num_orders, descending\n",
    "* Display the head of the DataFrame to ensure everything worked correctly."
   ]
  },
  {
   "cell_type": "code",
   "execution_count": 22,
   "metadata": {},
   "outputs": [
    {
     "name": "stdout",
     "output_type": "stream",
     "text": [
      "2019-04-23 20:26:08,660 INFO sqlalchemy.engine.base.Engine SELECT [Order].id, companyName, count([Order].id) as num_orders \n",
      "                        FROM Customer LEFT JOIN [Order] \n",
      "                        ON Customer.id = [Order].customerId \n",
      "                        GROUP BY companyName\n",
      "                        ORDER BY num_orders DESC;\n"
     ]
    },
    {
     "name": "stderr",
     "output_type": "stream",
     "text": [
      "INFO:sqlalchemy.engine.base.Engine:SELECT [Order].id, companyName, count([Order].id) as num_orders \n",
      "                        FROM Customer LEFT JOIN [Order] \n",
      "                        ON Customer.id = [Order].customerId \n",
      "                        GROUP BY companyName\n",
      "                        ORDER BY num_orders DESC;\n"
     ]
    },
    {
     "name": "stdout",
     "output_type": "stream",
     "text": [
      "2019-04-23 20:26:08,736 INFO sqlalchemy.engine.base.Engine ()\n"
     ]
    },
    {
     "name": "stderr",
     "output_type": "stream",
     "text": [
      "INFO:sqlalchemy.engine.base.Engine:()\n"
     ]
    },
    {
     "data": {
      "text/html": [
       "<div>\n",
       "<style scoped>\n",
       "    .dataframe tbody tr th:only-of-type {\n",
       "        vertical-align: middle;\n",
       "    }\n",
       "\n",
       "    .dataframe tbody tr th {\n",
       "        vertical-align: top;\n",
       "    }\n",
       "\n",
       "    .dataframe thead th {\n",
       "        text-align: right;\n",
       "    }\n",
       "</style>\n",
       "<table border=\"1\" class=\"dataframe\">\n",
       "  <thead>\n",
       "    <tr style=\"text-align: right;\">\n",
       "      <th></th>\n",
       "      <th>Id</th>\n",
       "      <th>CompanyName</th>\n",
       "      <th>num_orders</th>\n",
       "    </tr>\n",
       "  </thead>\n",
       "  <tbody>\n",
       "    <tr>\n",
       "      <th>0</th>\n",
       "      <td>11064.0</td>\n",
       "      <td>Save-a-lot Markets</td>\n",
       "      <td>31</td>\n",
       "    </tr>\n",
       "    <tr>\n",
       "      <th>1</th>\n",
       "      <td>11072.0</td>\n",
       "      <td>Ernst Handel</td>\n",
       "      <td>30</td>\n",
       "    </tr>\n",
       "    <tr>\n",
       "      <th>2</th>\n",
       "      <td>11021.0</td>\n",
       "      <td>QUICK-Stop</td>\n",
       "      <td>28</td>\n",
       "    </tr>\n",
       "    <tr>\n",
       "      <th>3</th>\n",
       "      <td>11050.0</td>\n",
       "      <td>Folk och fä HB</td>\n",
       "      <td>19</td>\n",
       "    </tr>\n",
       "    <tr>\n",
       "      <th>4</th>\n",
       "      <td>11063.0</td>\n",
       "      <td>Hungry Owl All-Night Grocers</td>\n",
       "      <td>19</td>\n",
       "    </tr>\n",
       "  </tbody>\n",
       "</table>\n",
       "</div>"
      ],
      "text/plain": [
       "        Id                   CompanyName  num_orders\n",
       "0  11064.0            Save-a-lot Markets          31\n",
       "1  11072.0                  Ernst Handel          30\n",
       "2  11021.0                    QUICK-Stop          28\n",
       "3  11050.0                Folk och fä HB          19\n",
       "4  11063.0  Hungry Owl All-Night Grocers          19"
      ]
     },
     "execution_count": 22,
     "metadata": {},
     "output_type": "execute_result"
    }
   ],
   "source": [
    "df = pd.read_sql_query(\"\"\"SELECT [Order].id, companyName, count([Order].id) as num_orders \n",
    "                        FROM Customer LEFT JOIN [Order] \n",
    "                        ON Customer.id = [Order].customerId \n",
    "                        GROUP BY companyName\n",
    "                        ORDER BY num_orders DESC;\"\"\",engine)\n",
    "df.head()"
   ]
  },
  {
   "cell_type": "markdown",
   "metadata": {},
   "source": [
    "### Expected Output\n",
    "\n",
    "<img src='join_results.png'>\n",
    "\n",
    "Great job! Let's see if we can execute a join that includes entities with a many-to-many relationship.\n",
    "\n",
    "### JOINs with Many-To-Many Relationships\n",
    "\n",
    "In the cell below:\n",
    "\n",
    "* Write a query that selects the LastName, FirstName and number of territories assigned for every employee. \n",
    "* Group the results by employee lastname\n",
    "* Order by the total number of territories assigned to each employee, descending\n",
    "* You'll need to make use a join table to solve this one--be sure to take a look at the ERD diagram again if needed!\n",
    "* Store your results in a DataFrame and display the head to ensure that everything worked correctly.\n",
    "\n",
    "**_NOTE:_** For long SQL statements, consider using the multiline string format in python, denoted by `\"\"\"three quotes\"\"\"` at the beginning and end.  Note that if you hit enter to move to another line, be sure to add an `\\` character at the end of the line to escape it--otherwise, your sql statements will contain `\\n` newline characters wherever you hit enter to move to the next line.  "
   ]
  },
  {
   "cell_type": "code",
   "execution_count": 14,
   "metadata": {},
   "outputs": [
    {
     "name": "stdout",
     "output_type": "stream",
     "text": [
      "2019-04-23 21:10:59,622 INFO sqlalchemy.engine.base.Engine SELECT Employee.lastName\n",
      "            ,Employee.firstName\n",
      "            ,count(EmployeeTerritory.territoryId) as TerritoriesAssigned\n",
      "        FROM\n",
      "        Employee JOIN EmployeeTerritory\n",
      "        ON Employee.id = EmployeeTerritory.employeeId\n",
      "        GROUP BY Employee.lastName\n",
      "        ORDER BY TerritoriesAssigned DESC;\n",
      "2019-04-23 21:10:59,624 INFO sqlalchemy.engine.base.Engine ()\n"
     ]
    },
    {
     "data": {
      "text/html": [
       "<div>\n",
       "<style scoped>\n",
       "    .dataframe tbody tr th:only-of-type {\n",
       "        vertical-align: middle;\n",
       "    }\n",
       "\n",
       "    .dataframe tbody tr th {\n",
       "        vertical-align: top;\n",
       "    }\n",
       "\n",
       "    .dataframe thead th {\n",
       "        text-align: right;\n",
       "    }\n",
       "</style>\n",
       "<table border=\"1\" class=\"dataframe\">\n",
       "  <thead>\n",
       "    <tr style=\"text-align: right;\">\n",
       "      <th></th>\n",
       "      <th>LastName</th>\n",
       "      <th>FirstName</th>\n",
       "      <th>TerritoriesAssigned</th>\n",
       "    </tr>\n",
       "  </thead>\n",
       "  <tbody>\n",
       "    <tr>\n",
       "      <th>0</th>\n",
       "      <td>King</td>\n",
       "      <td>Robert</td>\n",
       "      <td>10</td>\n",
       "    </tr>\n",
       "    <tr>\n",
       "      <th>1</th>\n",
       "      <td>Buchanan</td>\n",
       "      <td>Steven</td>\n",
       "      <td>7</td>\n",
       "    </tr>\n",
       "    <tr>\n",
       "      <th>2</th>\n",
       "      <td>Dodsworth</td>\n",
       "      <td>Anne</td>\n",
       "      <td>7</td>\n",
       "    </tr>\n",
       "    <tr>\n",
       "      <th>3</th>\n",
       "      <td>Fuller</td>\n",
       "      <td>Andrew</td>\n",
       "      <td>7</td>\n",
       "    </tr>\n",
       "    <tr>\n",
       "      <th>4</th>\n",
       "      <td>Suyama</td>\n",
       "      <td>Michael</td>\n",
       "      <td>5</td>\n",
       "    </tr>\n",
       "  </tbody>\n",
       "</table>\n",
       "</div>"
      ],
      "text/plain": [
       "    LastName FirstName  TerritoriesAssigned\n",
       "0       King    Robert                   10\n",
       "1   Buchanan    Steven                    7\n",
       "2  Dodsworth      Anne                    7\n",
       "3     Fuller    Andrew                    7\n",
       "4     Suyama   Michael                    5"
      ]
     },
     "execution_count": 14,
     "metadata": {},
     "output_type": "execute_result"
    }
   ],
   "source": [
    "q = \"\"\"SELECT Employee.lastName\n",
    "            ,Employee.firstName\n",
    "            ,count(EmployeeTerritory.territoryId) as TerritoriesAssigned\n",
    "        FROM\n",
    "        Employee JOIN EmployeeTerritory\n",
    "        ON Employee.id = EmployeeTerritory.employeeId\n",
    "        GROUP BY Employee.lastName\n",
    "        ORDER BY TerritoriesAssigned DESC;\"\"\"\n",
    "\n",
    "df2 = pd.read_sql_query(q, engine)\n",
    "df2.head()"
   ]
  },
  {
   "cell_type": "markdown",
   "metadata": {},
   "source": [
    "#### Expected Output:\n",
    "\n",
    "<img src='many-to-many-results.png'>"
   ]
  },
  {
   "cell_type": "markdown",
   "metadata": {},
   "source": [
    "Great job! You've demonstrated proficiency using raw sql with SQLAlchemy. However, we haven't yet touched all the fun declarative stuff.  Let's get some practice working with SQLAlchemy `session` objects below!\n",
    "\n",
    "## Using SQLAlchemy Sessions\n",
    "\n",
    "So far, we've just been using SQLAlchemy as a way to connect to a database and run SQL queries. However, SQLAlchemy is an **_Object-Relational Mapper_**, and can map entities in our database to python objects! This can be incredibly helpful when we need to incorporate data from our database into an object-oriented program or model. \n",
    "\n",
    "Let's start by getting some practice with `session` objects, because that's where all the magic happens.\n",
    "\n",
    "### Using `.query` Objects\n",
    "\n",
    "Recall that we created a `session` object at the beginning of this lab by using SQLAlchemy's `sessionmaker` function and binding it to our `engine` object.  We haven't used our `session` object too much thus far, but now we'll use it for queries!\n",
    "\n",
    "The `session` object contains a `.query()` method which returns a query object containing the results of our query, with the results mapped to objects.  \n",
    "\n",
    "Before we can make use of Object-Relational Mappings, we need to make sure that we have mappings created that map the tables in our existing database to objects in python.  We don't want to have to do this manually, so we'll make use the `automap` module inside of `sqlalchemy.ext`.\n",
    "\n",
    "In the cell below:\n",
    "\n",
    "* Import `MetaData` from `sqlalchemy`\n",
    "* Import `automap_base` from `sqlalchemy.ext.automap`\n",
    "* Create a `MetaData` object\n",
    "* Use the metadata object's `reflect` method on our `engine`\n",
    "* Call `automap_base` and set the `metadata` parameter to our `metadata`. Store the results returned inside of the variable `Base`\n",
    "* Call `base.prepare()`\n",
    "* Map `Employee` and `Customer` to the `Employee` and `Customer` classes, which can be found inside of `Base.classes`"
   ]
  },
  {
   "cell_type": "code",
   "execution_count": 24,
   "metadata": {
    "scrolled": true
   },
   "outputs": [
    {
     "name": "stdout",
     "output_type": "stream",
     "text": [
      "2019-04-23 21:27:58,343 INFO sqlalchemy.engine.base.Engine SELECT name FROM sqlite_master WHERE type='table' ORDER BY name\n",
      "2019-04-23 21:27:58,344 INFO sqlalchemy.engine.base.Engine ()\n",
      "2019-04-23 21:27:58,390 INFO sqlalchemy.engine.base.Engine PRAGMA table_info(\"Category\")\n",
      "2019-04-23 21:27:58,392 INFO sqlalchemy.engine.base.Engine ()\n",
      "2019-04-23 21:27:58,395 INFO sqlalchemy.engine.base.Engine SELECT sql FROM  (SELECT * FROM sqlite_master UNION ALL   SELECT * FROM sqlite_temp_master) WHERE name = 'Category' AND type = 'table'\n",
      "2019-04-23 21:27:58,396 INFO sqlalchemy.engine.base.Engine ()\n",
      "2019-04-23 21:27:58,398 INFO sqlalchemy.engine.base.Engine PRAGMA foreign_key_list(\"Category\")\n",
      "2019-04-23 21:27:58,399 INFO sqlalchemy.engine.base.Engine ()\n",
      "2019-04-23 21:27:58,400 INFO sqlalchemy.engine.base.Engine SELECT sql FROM  (SELECT * FROM sqlite_master UNION ALL   SELECT * FROM sqlite_temp_master) WHERE name = 'Category' AND type = 'table'\n",
      "2019-04-23 21:27:58,401 INFO sqlalchemy.engine.base.Engine ()\n",
      "2019-04-23 21:27:58,403 INFO sqlalchemy.engine.base.Engine PRAGMA index_list(\"Category\")\n",
      "2019-04-23 21:27:58,404 INFO sqlalchemy.engine.base.Engine ()\n",
      "2019-04-23 21:27:58,405 INFO sqlalchemy.engine.base.Engine PRAGMA index_list(\"Category\")\n",
      "2019-04-23 21:27:58,406 INFO sqlalchemy.engine.base.Engine ()\n",
      "2019-04-23 21:27:58,407 INFO sqlalchemy.engine.base.Engine SELECT sql FROM  (SELECT * FROM sqlite_master UNION ALL   SELECT * FROM sqlite_temp_master) WHERE name = 'Category' AND type = 'table'\n",
      "2019-04-23 21:27:58,408 INFO sqlalchemy.engine.base.Engine ()\n",
      "2019-04-23 21:27:58,409 INFO sqlalchemy.engine.base.Engine PRAGMA table_info(\"Customer\")\n",
      "2019-04-23 21:27:58,409 INFO sqlalchemy.engine.base.Engine ()\n",
      "2019-04-23 21:27:58,411 INFO sqlalchemy.engine.base.Engine SELECT sql FROM  (SELECT * FROM sqlite_master UNION ALL   SELECT * FROM sqlite_temp_master) WHERE name = 'Customer' AND type = 'table'\n",
      "2019-04-23 21:27:58,412 INFO sqlalchemy.engine.base.Engine ()\n",
      "2019-04-23 21:27:58,413 INFO sqlalchemy.engine.base.Engine PRAGMA foreign_key_list(\"Customer\")\n",
      "2019-04-23 21:27:58,413 INFO sqlalchemy.engine.base.Engine ()\n",
      "2019-04-23 21:27:58,415 INFO sqlalchemy.engine.base.Engine SELECT sql FROM  (SELECT * FROM sqlite_master UNION ALL   SELECT * FROM sqlite_temp_master) WHERE name = 'Customer' AND type = 'table'\n",
      "2019-04-23 21:27:58,415 INFO sqlalchemy.engine.base.Engine ()\n",
      "2019-04-23 21:27:58,416 INFO sqlalchemy.engine.base.Engine PRAGMA index_list(\"Customer\")\n",
      "2019-04-23 21:27:58,417 INFO sqlalchemy.engine.base.Engine ()\n",
      "2019-04-23 21:27:58,418 INFO sqlalchemy.engine.base.Engine PRAGMA index_list(\"Customer\")\n",
      "2019-04-23 21:27:58,419 INFO sqlalchemy.engine.base.Engine ()\n",
      "2019-04-23 21:27:58,420 INFO sqlalchemy.engine.base.Engine PRAGMA index_info(\"sqlite_autoindex_Customer_1\")\n",
      "2019-04-23 21:27:58,420 INFO sqlalchemy.engine.base.Engine ()\n",
      "2019-04-23 21:27:58,422 INFO sqlalchemy.engine.base.Engine SELECT sql FROM  (SELECT * FROM sqlite_master UNION ALL   SELECT * FROM sqlite_temp_master) WHERE name = 'Customer' AND type = 'table'\n",
      "2019-04-23 21:27:58,422 INFO sqlalchemy.engine.base.Engine ()\n",
      "2019-04-23 21:27:58,423 INFO sqlalchemy.engine.base.Engine PRAGMA table_info(\"CustomerCustomerDemo\")\n",
      "2019-04-23 21:27:58,424 INFO sqlalchemy.engine.base.Engine ()\n",
      "2019-04-23 21:27:58,425 INFO sqlalchemy.engine.base.Engine SELECT sql FROM  (SELECT * FROM sqlite_master UNION ALL   SELECT * FROM sqlite_temp_master) WHERE name = 'CustomerCustomerDemo' AND type = 'table'\n",
      "2019-04-23 21:27:58,426 INFO sqlalchemy.engine.base.Engine ()\n",
      "2019-04-23 21:27:58,427 INFO sqlalchemy.engine.base.Engine PRAGMA foreign_key_list(\"CustomerCustomerDemo\")\n",
      "2019-04-23 21:27:58,428 INFO sqlalchemy.engine.base.Engine ()\n",
      "2019-04-23 21:27:58,428 INFO sqlalchemy.engine.base.Engine SELECT sql FROM  (SELECT * FROM sqlite_master UNION ALL   SELECT * FROM sqlite_temp_master) WHERE name = 'CustomerCustomerDemo' AND type = 'table'\n",
      "2019-04-23 21:27:58,429 INFO sqlalchemy.engine.base.Engine ()\n",
      "2019-04-23 21:27:58,429 INFO sqlalchemy.engine.base.Engine PRAGMA index_list(\"CustomerCustomerDemo\")\n",
      "2019-04-23 21:27:58,430 INFO sqlalchemy.engine.base.Engine ()\n",
      "2019-04-23 21:27:58,432 INFO sqlalchemy.engine.base.Engine PRAGMA index_list(\"CustomerCustomerDemo\")\n",
      "2019-04-23 21:27:58,432 INFO sqlalchemy.engine.base.Engine ()\n",
      "2019-04-23 21:27:58,433 INFO sqlalchemy.engine.base.Engine PRAGMA index_info(\"sqlite_autoindex_CustomerCustomerDemo_1\")\n",
      "2019-04-23 21:27:58,434 INFO sqlalchemy.engine.base.Engine ()\n",
      "2019-04-23 21:27:58,435 INFO sqlalchemy.engine.base.Engine SELECT sql FROM  (SELECT * FROM sqlite_master UNION ALL   SELECT * FROM sqlite_temp_master) WHERE name = 'CustomerCustomerDemo' AND type = 'table'\n",
      "2019-04-23 21:27:58,435 INFO sqlalchemy.engine.base.Engine ()\n",
      "2019-04-23 21:27:58,437 INFO sqlalchemy.engine.base.Engine PRAGMA table_info(\"CustomerDemographic\")\n",
      "2019-04-23 21:27:58,437 INFO sqlalchemy.engine.base.Engine ()\n",
      "2019-04-23 21:27:58,439 INFO sqlalchemy.engine.base.Engine SELECT sql FROM  (SELECT * FROM sqlite_master UNION ALL   SELECT * FROM sqlite_temp_master) WHERE name = 'CustomerDemographic' AND type = 'table'\n",
      "2019-04-23 21:27:58,439 INFO sqlalchemy.engine.base.Engine ()\n",
      "2019-04-23 21:27:58,440 INFO sqlalchemy.engine.base.Engine PRAGMA foreign_key_list(\"CustomerDemographic\")\n",
      "2019-04-23 21:27:58,441 INFO sqlalchemy.engine.base.Engine ()\n",
      "2019-04-23 21:27:58,442 INFO sqlalchemy.engine.base.Engine SELECT sql FROM  (SELECT * FROM sqlite_master UNION ALL   SELECT * FROM sqlite_temp_master) WHERE name = 'CustomerDemographic' AND type = 'table'\n",
      "2019-04-23 21:27:58,442 INFO sqlalchemy.engine.base.Engine ()\n",
      "2019-04-23 21:27:58,443 INFO sqlalchemy.engine.base.Engine PRAGMA index_list(\"CustomerDemographic\")\n",
      "2019-04-23 21:27:58,444 INFO sqlalchemy.engine.base.Engine ()\n",
      "2019-04-23 21:27:58,445 INFO sqlalchemy.engine.base.Engine PRAGMA index_list(\"CustomerDemographic\")\n",
      "2019-04-23 21:27:58,446 INFO sqlalchemy.engine.base.Engine ()\n",
      "2019-04-23 21:27:58,447 INFO sqlalchemy.engine.base.Engine PRAGMA index_info(\"sqlite_autoindex_CustomerDemographic_1\")\n",
      "2019-04-23 21:27:58,447 INFO sqlalchemy.engine.base.Engine ()\n",
      "2019-04-23 21:27:58,448 INFO sqlalchemy.engine.base.Engine SELECT sql FROM  (SELECT * FROM sqlite_master UNION ALL   SELECT * FROM sqlite_temp_master) WHERE name = 'CustomerDemographic' AND type = 'table'\n",
      "2019-04-23 21:27:58,449 INFO sqlalchemy.engine.base.Engine ()\n",
      "2019-04-23 21:27:58,451 INFO sqlalchemy.engine.base.Engine PRAGMA table_info(\"Employee\")\n",
      "2019-04-23 21:27:58,451 INFO sqlalchemy.engine.base.Engine ()\n",
      "2019-04-23 21:27:58,454 INFO sqlalchemy.engine.base.Engine SELECT sql FROM  (SELECT * FROM sqlite_master UNION ALL   SELECT * FROM sqlite_temp_master) WHERE name = 'Employee' AND type = 'table'\n",
      "2019-04-23 21:27:58,454 INFO sqlalchemy.engine.base.Engine ()\n",
      "2019-04-23 21:27:58,456 INFO sqlalchemy.engine.base.Engine PRAGMA foreign_key_list(\"Employee\")\n",
      "2019-04-23 21:27:58,456 INFO sqlalchemy.engine.base.Engine ()\n",
      "2019-04-23 21:27:58,457 INFO sqlalchemy.engine.base.Engine SELECT sql FROM  (SELECT * FROM sqlite_master UNION ALL   SELECT * FROM sqlite_temp_master) WHERE name = 'Employee' AND type = 'table'\n",
      "2019-04-23 21:27:58,458 INFO sqlalchemy.engine.base.Engine ()\n",
      "2019-04-23 21:27:58,459 INFO sqlalchemy.engine.base.Engine PRAGMA index_list(\"Employee\")\n",
      "2019-04-23 21:27:58,460 INFO sqlalchemy.engine.base.Engine ()\n",
      "2019-04-23 21:27:58,461 INFO sqlalchemy.engine.base.Engine PRAGMA index_list(\"Employee\")\n",
      "2019-04-23 21:27:58,462 INFO sqlalchemy.engine.base.Engine ()\n",
      "2019-04-23 21:27:58,463 INFO sqlalchemy.engine.base.Engine SELECT sql FROM  (SELECT * FROM sqlite_master UNION ALL   SELECT * FROM sqlite_temp_master) WHERE name = 'Employee' AND type = 'table'\n",
      "2019-04-23 21:27:58,463 INFO sqlalchemy.engine.base.Engine ()\n",
      "2019-04-23 21:27:58,465 INFO sqlalchemy.engine.base.Engine PRAGMA table_info(\"EmployeeTerritory\")\n",
      "2019-04-23 21:27:58,465 INFO sqlalchemy.engine.base.Engine ()\n",
      "2019-04-23 21:27:58,467 INFO sqlalchemy.engine.base.Engine SELECT sql FROM  (SELECT * FROM sqlite_master UNION ALL   SELECT * FROM sqlite_temp_master) WHERE name = 'EmployeeTerritory' AND type = 'table'\n",
      "2019-04-23 21:27:58,467 INFO sqlalchemy.engine.base.Engine ()\n"
     ]
    },
    {
     "name": "stdout",
     "output_type": "stream",
     "text": [
      "2019-04-23 21:27:58,468 INFO sqlalchemy.engine.base.Engine PRAGMA foreign_key_list(\"EmployeeTerritory\")\n",
      "2019-04-23 21:27:58,469 INFO sqlalchemy.engine.base.Engine ()\n",
      "2019-04-23 21:27:58,470 INFO sqlalchemy.engine.base.Engine SELECT sql FROM  (SELECT * FROM sqlite_master UNION ALL   SELECT * FROM sqlite_temp_master) WHERE name = 'EmployeeTerritory' AND type = 'table'\n",
      "2019-04-23 21:27:58,471 INFO sqlalchemy.engine.base.Engine ()\n",
      "2019-04-23 21:27:58,472 INFO sqlalchemy.engine.base.Engine PRAGMA index_list(\"EmployeeTerritory\")\n",
      "2019-04-23 21:27:58,472 INFO sqlalchemy.engine.base.Engine ()\n",
      "2019-04-23 21:27:58,473 INFO sqlalchemy.engine.base.Engine PRAGMA index_list(\"EmployeeTerritory\")\n",
      "2019-04-23 21:27:58,474 INFO sqlalchemy.engine.base.Engine ()\n",
      "2019-04-23 21:27:58,475 INFO sqlalchemy.engine.base.Engine PRAGMA index_info(\"sqlite_autoindex_EmployeeTerritory_1\")\n",
      "2019-04-23 21:27:58,476 INFO sqlalchemy.engine.base.Engine ()\n",
      "2019-04-23 21:27:58,477 INFO sqlalchemy.engine.base.Engine SELECT sql FROM  (SELECT * FROM sqlite_master UNION ALL   SELECT * FROM sqlite_temp_master) WHERE name = 'EmployeeTerritory' AND type = 'table'\n",
      "2019-04-23 21:27:58,477 INFO sqlalchemy.engine.base.Engine ()\n",
      "2019-04-23 21:27:58,479 INFO sqlalchemy.engine.base.Engine PRAGMA table_info(\"Order\")\n",
      "2019-04-23 21:27:58,479 INFO sqlalchemy.engine.base.Engine ()\n",
      "2019-04-23 21:27:58,491 INFO sqlalchemy.engine.base.Engine SELECT sql FROM  (SELECT * FROM sqlite_master UNION ALL   SELECT * FROM sqlite_temp_master) WHERE name = 'Order' AND type = 'table'\n",
      "2019-04-23 21:27:58,492 INFO sqlalchemy.engine.base.Engine ()\n",
      "2019-04-23 21:27:58,493 INFO sqlalchemy.engine.base.Engine PRAGMA foreign_key_list(\"Order\")\n",
      "2019-04-23 21:27:58,494 INFO sqlalchemy.engine.base.Engine ()\n",
      "2019-04-23 21:27:58,494 INFO sqlalchemy.engine.base.Engine SELECT sql FROM  (SELECT * FROM sqlite_master UNION ALL   SELECT * FROM sqlite_temp_master) WHERE name = 'Order' AND type = 'table'\n",
      "2019-04-23 21:27:58,495 INFO sqlalchemy.engine.base.Engine ()\n",
      "2019-04-23 21:27:58,496 INFO sqlalchemy.engine.base.Engine PRAGMA index_list(\"Order\")\n",
      "2019-04-23 21:27:58,497 INFO sqlalchemy.engine.base.Engine ()\n",
      "2019-04-23 21:27:58,498 INFO sqlalchemy.engine.base.Engine PRAGMA index_list(\"Order\")\n",
      "2019-04-23 21:27:58,499 INFO sqlalchemy.engine.base.Engine ()\n",
      "2019-04-23 21:27:58,500 INFO sqlalchemy.engine.base.Engine SELECT sql FROM  (SELECT * FROM sqlite_master UNION ALL   SELECT * FROM sqlite_temp_master) WHERE name = 'Order' AND type = 'table'\n",
      "2019-04-23 21:27:58,501 INFO sqlalchemy.engine.base.Engine ()\n",
      "2019-04-23 21:27:58,502 INFO sqlalchemy.engine.base.Engine PRAGMA table_info(\"OrderDetail\")\n",
      "2019-04-23 21:27:58,503 INFO sqlalchemy.engine.base.Engine ()\n",
      "2019-04-23 21:27:58,504 INFO sqlalchemy.engine.base.Engine SELECT sql FROM  (SELECT * FROM sqlite_master UNION ALL   SELECT * FROM sqlite_temp_master) WHERE name = 'OrderDetail' AND type = 'table'\n",
      "2019-04-23 21:27:58,505 INFO sqlalchemy.engine.base.Engine ()\n",
      "2019-04-23 21:27:58,506 INFO sqlalchemy.engine.base.Engine PRAGMA foreign_key_list(\"OrderDetail\")\n",
      "2019-04-23 21:27:58,506 INFO sqlalchemy.engine.base.Engine ()\n",
      "2019-04-23 21:27:58,507 INFO sqlalchemy.engine.base.Engine SELECT sql FROM  (SELECT * FROM sqlite_master UNION ALL   SELECT * FROM sqlite_temp_master) WHERE name = 'OrderDetail' AND type = 'table'\n",
      "2019-04-23 21:27:58,508 INFO sqlalchemy.engine.base.Engine ()\n",
      "2019-04-23 21:27:58,509 INFO sqlalchemy.engine.base.Engine PRAGMA index_list(\"OrderDetail\")\n",
      "2019-04-23 21:27:58,510 INFO sqlalchemy.engine.base.Engine ()\n",
      "2019-04-23 21:27:58,510 INFO sqlalchemy.engine.base.Engine PRAGMA index_list(\"OrderDetail\")\n",
      "2019-04-23 21:27:58,511 INFO sqlalchemy.engine.base.Engine ()\n",
      "2019-04-23 21:27:58,512 INFO sqlalchemy.engine.base.Engine PRAGMA index_info(\"sqlite_autoindex_OrderDetail_1\")\n",
      "2019-04-23 21:27:58,513 INFO sqlalchemy.engine.base.Engine ()\n",
      "2019-04-23 21:27:58,514 INFO sqlalchemy.engine.base.Engine SELECT sql FROM  (SELECT * FROM sqlite_master UNION ALL   SELECT * FROM sqlite_temp_master) WHERE name = 'OrderDetail' AND type = 'table'\n",
      "2019-04-23 21:27:58,515 INFO sqlalchemy.engine.base.Engine ()\n",
      "2019-04-23 21:27:58,516 INFO sqlalchemy.engine.base.Engine PRAGMA table_info(\"Product\")\n",
      "2019-04-23 21:27:58,516 INFO sqlalchemy.engine.base.Engine ()\n",
      "2019-04-23 21:27:58,518 INFO sqlalchemy.engine.base.Engine SELECT sql FROM  (SELECT * FROM sqlite_master UNION ALL   SELECT * FROM sqlite_temp_master) WHERE name = 'Product' AND type = 'table'\n",
      "2019-04-23 21:27:58,518 INFO sqlalchemy.engine.base.Engine ()\n",
      "2019-04-23 21:27:58,520 INFO sqlalchemy.engine.base.Engine PRAGMA foreign_key_list(\"Product\")\n",
      "2019-04-23 21:27:58,520 INFO sqlalchemy.engine.base.Engine ()\n",
      "2019-04-23 21:27:58,521 INFO sqlalchemy.engine.base.Engine SELECT sql FROM  (SELECT * FROM sqlite_master UNION ALL   SELECT * FROM sqlite_temp_master) WHERE name = 'Product' AND type = 'table'\n",
      "2019-04-23 21:27:58,521 INFO sqlalchemy.engine.base.Engine ()\n",
      "2019-04-23 21:27:58,522 INFO sqlalchemy.engine.base.Engine PRAGMA index_list(\"Product\")\n",
      "2019-04-23 21:27:58,523 INFO sqlalchemy.engine.base.Engine ()\n",
      "2019-04-23 21:27:58,524 INFO sqlalchemy.engine.base.Engine PRAGMA index_list(\"Product\")\n",
      "2019-04-23 21:27:58,525 INFO sqlalchemy.engine.base.Engine ()\n",
      "2019-04-23 21:27:58,526 INFO sqlalchemy.engine.base.Engine SELECT sql FROM  (SELECT * FROM sqlite_master UNION ALL   SELECT * FROM sqlite_temp_master) WHERE name = 'Product' AND type = 'table'\n",
      "2019-04-23 21:27:58,526 INFO sqlalchemy.engine.base.Engine ()\n",
      "2019-04-23 21:27:58,528 INFO sqlalchemy.engine.base.Engine PRAGMA table_info(\"Region\")\n",
      "2019-04-23 21:27:58,529 INFO sqlalchemy.engine.base.Engine ()\n",
      "2019-04-23 21:27:58,530 INFO sqlalchemy.engine.base.Engine SELECT sql FROM  (SELECT * FROM sqlite_master UNION ALL   SELECT * FROM sqlite_temp_master) WHERE name = 'Region' AND type = 'table'\n",
      "2019-04-23 21:27:58,530 INFO sqlalchemy.engine.base.Engine ()\n",
      "2019-04-23 21:27:58,532 INFO sqlalchemy.engine.base.Engine PRAGMA foreign_key_list(\"Region\")\n",
      "2019-04-23 21:27:58,532 INFO sqlalchemy.engine.base.Engine ()\n",
      "2019-04-23 21:27:58,533 INFO sqlalchemy.engine.base.Engine SELECT sql FROM  (SELECT * FROM sqlite_master UNION ALL   SELECT * FROM sqlite_temp_master) WHERE name = 'Region' AND type = 'table'\n",
      "2019-04-23 21:27:58,534 INFO sqlalchemy.engine.base.Engine ()\n",
      "2019-04-23 21:27:58,535 INFO sqlalchemy.engine.base.Engine PRAGMA index_list(\"Region\")\n",
      "2019-04-23 21:27:58,536 INFO sqlalchemy.engine.base.Engine ()\n",
      "2019-04-23 21:27:58,537 INFO sqlalchemy.engine.base.Engine PRAGMA index_list(\"Region\")\n",
      "2019-04-23 21:27:58,538 INFO sqlalchemy.engine.base.Engine ()\n",
      "2019-04-23 21:27:58,539 INFO sqlalchemy.engine.base.Engine SELECT sql FROM  (SELECT * FROM sqlite_master UNION ALL   SELECT * FROM sqlite_temp_master) WHERE name = 'Region' AND type = 'table'\n",
      "2019-04-23 21:27:58,539 INFO sqlalchemy.engine.base.Engine ()\n",
      "2019-04-23 21:27:58,541 INFO sqlalchemy.engine.base.Engine PRAGMA table_info(\"Shipper\")\n",
      "2019-04-23 21:27:58,541 INFO sqlalchemy.engine.base.Engine ()\n",
      "2019-04-23 21:27:58,542 INFO sqlalchemy.engine.base.Engine SELECT sql FROM  (SELECT * FROM sqlite_master UNION ALL   SELECT * FROM sqlite_temp_master) WHERE name = 'Shipper' AND type = 'table'\n",
      "2019-04-23 21:27:58,543 INFO sqlalchemy.engine.base.Engine ()\n",
      "2019-04-23 21:27:58,544 INFO sqlalchemy.engine.base.Engine PRAGMA foreign_key_list(\"Shipper\")\n",
      "2019-04-23 21:27:58,544 INFO sqlalchemy.engine.base.Engine ()\n",
      "2019-04-23 21:27:58,545 INFO sqlalchemy.engine.base.Engine SELECT sql FROM  (SELECT * FROM sqlite_master UNION ALL   SELECT * FROM sqlite_temp_master) WHERE name = 'Shipper' AND type = 'table'\n",
      "2019-04-23 21:27:58,545 INFO sqlalchemy.engine.base.Engine ()\n",
      "2019-04-23 21:27:58,546 INFO sqlalchemy.engine.base.Engine PRAGMA index_list(\"Shipper\")\n",
      "2019-04-23 21:27:58,546 INFO sqlalchemy.engine.base.Engine ()\n",
      "2019-04-23 21:27:58,547 INFO sqlalchemy.engine.base.Engine PRAGMA index_list(\"Shipper\")\n",
      "2019-04-23 21:27:58,547 INFO sqlalchemy.engine.base.Engine ()\n",
      "2019-04-23 21:27:58,548 INFO sqlalchemy.engine.base.Engine SELECT sql FROM  (SELECT * FROM sqlite_master UNION ALL   SELECT * FROM sqlite_temp_master) WHERE name = 'Shipper' AND type = 'table'\n",
      "2019-04-23 21:27:58,548 INFO sqlalchemy.engine.base.Engine ()\n"
     ]
    },
    {
     "name": "stdout",
     "output_type": "stream",
     "text": [
      "2019-04-23 21:27:58,549 INFO sqlalchemy.engine.base.Engine PRAGMA table_info(\"Supplier\")\n",
      "2019-04-23 21:27:58,550 INFO sqlalchemy.engine.base.Engine ()\n",
      "2019-04-23 21:27:58,551 INFO sqlalchemy.engine.base.Engine SELECT sql FROM  (SELECT * FROM sqlite_master UNION ALL   SELECT * FROM sqlite_temp_master) WHERE name = 'Supplier' AND type = 'table'\n",
      "2019-04-23 21:27:58,551 INFO sqlalchemy.engine.base.Engine ()\n",
      "2019-04-23 21:27:58,552 INFO sqlalchemy.engine.base.Engine PRAGMA foreign_key_list(\"Supplier\")\n",
      "2019-04-23 21:27:58,553 INFO sqlalchemy.engine.base.Engine ()\n",
      "2019-04-23 21:27:58,553 INFO sqlalchemy.engine.base.Engine SELECT sql FROM  (SELECT * FROM sqlite_master UNION ALL   SELECT * FROM sqlite_temp_master) WHERE name = 'Supplier' AND type = 'table'\n",
      "2019-04-23 21:27:58,553 INFO sqlalchemy.engine.base.Engine ()\n",
      "2019-04-23 21:27:58,554 INFO sqlalchemy.engine.base.Engine PRAGMA index_list(\"Supplier\")\n",
      "2019-04-23 21:27:58,555 INFO sqlalchemy.engine.base.Engine ()\n",
      "2019-04-23 21:27:58,555 INFO sqlalchemy.engine.base.Engine PRAGMA index_list(\"Supplier\")\n",
      "2019-04-23 21:27:58,556 INFO sqlalchemy.engine.base.Engine ()\n",
      "2019-04-23 21:27:58,556 INFO sqlalchemy.engine.base.Engine SELECT sql FROM  (SELECT * FROM sqlite_master UNION ALL   SELECT * FROM sqlite_temp_master) WHERE name = 'Supplier' AND type = 'table'\n",
      "2019-04-23 21:27:58,557 INFO sqlalchemy.engine.base.Engine ()\n",
      "2019-04-23 21:27:58,558 INFO sqlalchemy.engine.base.Engine PRAGMA table_info(\"Territory\")\n",
      "2019-04-23 21:27:58,558 INFO sqlalchemy.engine.base.Engine ()\n",
      "2019-04-23 21:27:58,559 INFO sqlalchemy.engine.base.Engine SELECT sql FROM  (SELECT * FROM sqlite_master UNION ALL   SELECT * FROM sqlite_temp_master) WHERE name = 'Territory' AND type = 'table'\n",
      "2019-04-23 21:27:58,560 INFO sqlalchemy.engine.base.Engine ()\n",
      "2019-04-23 21:27:58,560 INFO sqlalchemy.engine.base.Engine PRAGMA foreign_key_list(\"Territory\")\n",
      "2019-04-23 21:27:58,561 INFO sqlalchemy.engine.base.Engine ()\n",
      "2019-04-23 21:27:58,561 INFO sqlalchemy.engine.base.Engine SELECT sql FROM  (SELECT * FROM sqlite_master UNION ALL   SELECT * FROM sqlite_temp_master) WHERE name = 'Territory' AND type = 'table'\n",
      "2019-04-23 21:27:58,562 INFO sqlalchemy.engine.base.Engine ()\n",
      "2019-04-23 21:27:58,562 INFO sqlalchemy.engine.base.Engine PRAGMA index_list(\"Territory\")\n",
      "2019-04-23 21:27:58,563 INFO sqlalchemy.engine.base.Engine ()\n",
      "2019-04-23 21:27:58,564 INFO sqlalchemy.engine.base.Engine PRAGMA index_list(\"Territory\")\n",
      "2019-04-23 21:27:58,564 INFO sqlalchemy.engine.base.Engine ()\n",
      "2019-04-23 21:27:58,565 INFO sqlalchemy.engine.base.Engine PRAGMA index_info(\"sqlite_autoindex_Territory_1\")\n",
      "2019-04-23 21:27:58,565 INFO sqlalchemy.engine.base.Engine ()\n",
      "2019-04-23 21:27:58,566 INFO sqlalchemy.engine.base.Engine SELECT sql FROM  (SELECT * FROM sqlite_master UNION ALL   SELECT * FROM sqlite_temp_master) WHERE name = 'Territory' AND type = 'table'\n",
      "2019-04-23 21:27:58,566 INFO sqlalchemy.engine.base.Engine ()\n"
     ]
    }
   ],
   "source": [
    "from sqlalchemy import MetaData\n",
    "from sqlalchemy.ext.automap import automap_base\n",
    "\n",
    "metadata = MetaData()\n",
    "\n",
    "metadata.reflect(engine)\n",
    "\n",
    "Base = automap_base(metadata=metadata)\n",
    "Base.prepare()\n",
    "# Don't forget to .prepare()!\n",
    "\n",
    "Employee, Customer = Base.classes.Employee, Base.classes.Customer"
   ]
  },
  {
   "cell_type": "markdown",
   "metadata": {},
   "source": [
    "Now that we have some mappings set up, we can make use of `session.query()` help us query our database!\n",
    "\n",
    "### Writing Basic Queries\n",
    "\n",
    "Let's use the `query()` object to get all the employees from the `'Employee'` table. \n",
    "\n",
    "In the cell below:\n",
    "\n",
    "* Create a for loop that iterates through the results returned by a `session.query()` of the Employee table (pass this as a variable, not a string).\n",
    "* Order the results by the Employee's `.HireDate` attribute.\n",
    "* Print the last name, first name, and hire date of each employee. "
   ]
  },
  {
   "cell_type": "code",
   "execution_count": 25,
   "metadata": {},
   "outputs": [
    {
     "name": "stdout",
     "output_type": "stream",
     "text": [
      "2019-04-23 21:28:03,010 INFO sqlalchemy.engine.base.Engine SELECT \"Employee\".\"Id\" AS \"Employee_Id\", \"Employee\".\"LastName\" AS \"Employee_LastName\", \"Employee\".\"FirstName\" AS \"Employee_FirstName\", \"Employee\".\"Title\" AS \"Employee_Title\", \"Employee\".\"TitleOfCourtesy\" AS \"Employee_TitleOfCourtesy\", \"Employee\".\"BirthDate\" AS \"Employee_BirthDate\", \"Employee\".\"HireDate\" AS \"Employee_HireDate\", \"Employee\".\"Address\" AS \"Employee_Address\", \"Employee\".\"City\" AS \"Employee_City\", \"Employee\".\"Region\" AS \"Employee_Region\", \"Employee\".\"PostalCode\" AS \"Employee_PostalCode\", \"Employee\".\"Country\" AS \"Employee_Country\", \"Employee\".\"HomePhone\" AS \"Employee_HomePhone\", \"Employee\".\"Extension\" AS \"Employee_Extension\", \"Employee\".\"Photo\" AS \"Employee_Photo\", \"Employee\".\"Notes\" AS \"Employee_Notes\", \"Employee\".\"ReportsTo\" AS \"Employee_ReportsTo\", \"Employee\".\"PhotoPath\" AS \"Employee_PhotoPath\" \n",
      "FROM \"Employee\" ORDER BY \"Employee\".\"HireDate\"\n",
      "2019-04-23 21:28:03,090 INFO sqlalchemy.engine.base.Engine ()\n",
      "Name: Janet Leverling, Hire Date: 2024-04-01\n",
      "Name: Nancy Davolio, Hire Date: 2024-05-01\n",
      "Name: Andrew Fuller, Hire Date: 2024-08-14\n",
      "Name: Margaret Peacock, Hire Date: 2025-05-03\n",
      "Name: Steven Buchanan, Hire Date: 2025-10-17\n",
      "Name: Michael Suyama, Hire Date: 2025-10-17\n",
      "Name: Robert King, Hire Date: 2026-01-02\n",
      "Name: Laura Callahan, Hire Date: 2026-03-05\n",
      "Name: Anne Dodsworth, Hire Date: 2026-11-15\n"
     ]
    }
   ],
   "source": [
    "for instance in session.query(Employee).order_by(Employee.HireDate):\n",
    "    print(\"Name: \" + instance.FirstName + \" \" + instance.LastName +\n",
    "          \", Hire Date: \" + instance.HireDate) "
   ]
  },
  {
   "cell_type": "markdown",
   "metadata": {},
   "source": [
    "### Implicit JOINs using `.filter()`\n",
    "\n",
    "One great benefit of using `session.query()` to query our data is that we can easily execute **_implicit joins_** by making use of the `.filter()` method. \n",
    "\n",
    "So far we've only explicitly specified mappings for the `Employee` and `Customer` classes.  We'll need to do this now for the `Product` and `Category` classes before we can use them with `session.query()`.\n",
    "\n",
    "In the cell below, set the mappings for `Product` and `Category`.\n",
    "\n",
    "**_HINT:_** This will look just like the last line of the code cell where we declared our mappings previously.  No need to repeat all the steps for getting metadata and creating a `Base` class. Just set the mappings!"
   ]
  },
  {
   "cell_type": "code",
   "execution_count": 26,
   "metadata": {},
   "outputs": [],
   "source": [
    "Product, Category = Base.classes.Product, Base.classes.Category"
   ]
  },
  {
   "cell_type": "markdown",
   "metadata": {},
   "source": [
    "Great!\n",
    "\n",
    "Now, in the cell below:\n",
    "\n",
    "* Create a for loop that iterates through all results returned from a query of Products and Categories\n",
    "* Use the `.filter()` method to only include cases where the Product's `.CategoryID` matches the Category's `.Id` attribute.\n",
    "* Print out the name of each product, followed by the name of the category that it belongs to. "
   ]
  },
  {
   "cell_type": "code",
   "execution_count": 34,
   "metadata": {},
   "outputs": [
    {
     "name": "stdout",
     "output_type": "stream",
     "text": [
      "2019-04-23 21:33:47,854 INFO sqlalchemy.engine.base.Engine SELECT \"Product\".\"Id\" AS \"Product_Id\", \"Product\".\"ProductName\" AS \"Product_ProductName\", \"Product\".\"SupplierId\" AS \"Product_SupplierId\", \"Product\".\"CategoryId\" AS \"Product_CategoryId\", \"Product\".\"QuantityPerUnit\" AS \"Product_QuantityPerUnit\", \"Product\".\"UnitPrice\" AS \"Product_UnitPrice\", \"Product\".\"UnitsInStock\" AS \"Product_UnitsInStock\", \"Product\".\"UnitsOnOrder\" AS \"Product_UnitsOnOrder\", \"Product\".\"ReorderLevel\" AS \"Product_ReorderLevel\", \"Product\".\"Discontinued\" AS \"Product_Discontinued\", \"Category\".\"Id\" AS \"Category_Id\", \"Category\".\"CategoryName\" AS \"Category_CategoryName\", \"Category\".\"Description\" AS \"Category_Description\" \n",
      "FROM \"Product\", \"Category\" \n",
      "WHERE \"Product\".\"CategoryId\" = \"Category\".\"Id\"\n",
      "2019-04-23 21:33:47,855 INFO sqlalchemy.engine.base.Engine ()\n"
     ]
    },
    {
     "ename": "AttributeError",
     "evalue": "'result' object has no attribute 'productName'",
     "output_type": "error",
     "traceback": [
      "\u001b[0;31m\u001b[0m",
      "\u001b[0;31mAttributeError\u001b[0mTraceback (most recent call last)",
      "\u001b[0;32m<ipython-input-34-ff5899d245c6>\u001b[0m in \u001b[0;36m<module>\u001b[0;34m()\u001b[0m\n\u001b[1;32m      1\u001b[0m \u001b[0;32mfor\u001b[0m \u001b[0minstance\u001b[0m \u001b[0;32min\u001b[0m \u001b[0msession\u001b[0m\u001b[0;34m.\u001b[0m\u001b[0mquery\u001b[0m\u001b[0;34m(\u001b[0m\u001b[0mProduct\u001b[0m\u001b[0;34m,\u001b[0m\u001b[0mCategory\u001b[0m\u001b[0;34m)\u001b[0m\u001b[0;34m.\u001b[0m                \u001b[0mfilter\u001b[0m\u001b[0;34m(\u001b[0m\u001b[0mProduct\u001b[0m\u001b[0;34m.\u001b[0m\u001b[0mCategoryId\u001b[0m\u001b[0;34m==\u001b[0m\u001b[0mCategory\u001b[0m\u001b[0;34m.\u001b[0m\u001b[0mId\u001b[0m\u001b[0;34m)\u001b[0m\u001b[0;34m:\u001b[0m\u001b[0;34m\u001b[0m\u001b[0m\n\u001b[0;32m----> 2\u001b[0;31m         \u001b[0mprint\u001b[0m\u001b[0;34m(\u001b[0m\u001b[0;34m\"Name: \"\u001b[0m \u001b[0;34m+\u001b[0m \u001b[0minstance\u001b[0m\u001b[0;34m.\u001b[0m\u001b[0mproductName\u001b[0m \u001b[0;34m+\u001b[0m \u001b[0;34m\", Category: \"\u001b[0m \u001b[0;34m+\u001b[0m \u001b[0minstance\u001b[0m\u001b[0;34m.\u001b[0m\u001b[0mcategoryName\u001b[0m\u001b[0;34m)\u001b[0m\u001b[0;34m\u001b[0m\u001b[0m\n\u001b[0m",
      "\u001b[0;31mAttributeError\u001b[0m: 'result' object has no attribute 'productName'"
     ]
    }
   ],
   "source": [
    "for p,c in session.query(Product,Category).\\\n",
    "                filter(Product.CategoryId==Category.Id):\n",
    "        print(\"Name: \" + p.productName + \", Category: \" + instance.categoryName)"
   ]
  },
  {
   "cell_type": "markdown",
   "metadata": {},
   "source": [
    "## Summary\n",
    "\n",
    "Great job! You've just used SQLAlchemy to work with a sample production database. Note that there are many, many more awesome things that SQLAlchemy can do, but they're outside the scope of this lesson.  However, if you're interested in learning more, don't be afraid to take a look at the [SQLAlchemy documentation](https://docs.sqlalchemy.org/en/latest/orm/tutorial.html) and work through some tutorials in your spare time!"
   ]
  }
 ],
 "metadata": {
  "kernelspec": {
   "display_name": "Python 3",
   "language": "python",
   "name": "python3"
  },
  "language_info": {
   "codemirror_mode": {
    "name": "ipython",
    "version": 3
   },
   "file_extension": ".py",
   "mimetype": "text/x-python",
   "name": "python",
   "nbconvert_exporter": "python",
   "pygments_lexer": "ipython3",
   "version": "3.6.6"
  }
 },
 "nbformat": 4,
 "nbformat_minor": 2
}
